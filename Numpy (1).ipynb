{
 "cells": [
  {
   "cell_type": "markdown",
   "metadata": {},
   "source": [
    "# Numpy\n",
    "- core library for scientific and numerical computing in python\n",
    "- linear algebra, Fourier Transform\n",
    "- provides high performance multidimensional array object and tools for working with arrays\n",
    "- main object  is the multidimensional array\n",
    "- t is a table of elements (usually numbers) , of same data type, indexed by a tuple of positive integers\n",
    "- dimensions = axes\n",
    "- numpy arrays aka ND arrays"
   ]
  },
  {
   "cell_type": "markdown",
   "metadata": {},
   "source": [
    "### Why Numpy and not lists?\n",
    "- Fast - have been optimized for years and thus implementation is quick\n",
    "- Convienient - has different libraries from python lists and more no. of functionalities\n",
    "- Less Memory"
   ]
  },
  {
   "cell_type": "code",
   "execution_count": 1,
   "metadata": {},
   "outputs": [],
   "source": [
    "import numpy as np"
   ]
  },
  {
   "cell_type": "code",
   "execution_count": 2,
   "metadata": {},
   "outputs": [
    {
     "name": "stdout",
     "output_type": "stream",
     "text": [
      "[1 2 3]\n"
     ]
    },
    {
     "data": {
      "text/plain": [
       "array([1, 2, 3])"
      ]
     },
     "execution_count": 2,
     "metadata": {},
     "output_type": "execute_result"
    }
   ],
   "source": [
    "a = np.array([1,2,3])\n",
    "print(a)\n",
    "a"
   ]
  },
  {
   "cell_type": "markdown",
   "metadata": {},
   "source": [
    "### Advantage over lists"
   ]
  },
  {
   "cell_type": "code",
   "execution_count": 3,
   "metadata": {},
   "outputs": [],
   "source": [
    "import time\n",
    "import sys"
   ]
  },
  {
   "cell_type": "code",
   "execution_count": 4,
   "metadata": {},
   "outputs": [
    {
     "name": "stdout",
     "output_type": "stream",
     "text": [
      "28000\n"
     ]
    }
   ],
   "source": [
    "List = range(1000) # b is a list with the range 1000 from 0 to 999\n",
    "print(sys.getsizeof(6) * len(List))"
   ]
  },
  {
   "cell_type": "code",
   "execution_count": 5,
   "metadata": {},
   "outputs": [
    {
     "name": "stdout",
     "output_type": "stream",
     "text": [
      "4000\n"
     ]
    }
   ],
   "source": [
    "Numpy_Array = np.arange(1000)\n",
    "print(Numpy_Array.size * Numpy_Array.itemsize)"
   ]
  },
  {
   "cell_type": "code",
   "execution_count": 6,
   "metadata": {},
   "outputs": [],
   "source": [
    "size = 20000"
   ]
  },
  {
   "cell_type": "code",
   "execution_count": 7,
   "metadata": {},
   "outputs": [],
   "source": [
    "List1 = range(size)\n",
    "List2 = range(size)\n",
    "Numpy_Array1 = np.arange(size)\n",
    "Numpy_Array2 = np.arange(size)"
   ]
  },
  {
   "cell_type": "code",
   "execution_count": 8,
   "metadata": {},
   "outputs": [
    {
     "name": "stdout",
     "output_type": "stream",
     "text": [
      "Execution Time For python list : 0.9970664978027344\n"
     ]
    }
   ],
   "source": [
    "start = time.time()\n",
    "result = [(x+y) for x , y in zip(List1, List2)]\n",
    "print(\"Execution Time For python list :\" , (time.time() - start) * 1000)"
   ]
  },
  {
   "cell_type": "code",
   "execution_count": 9,
   "metadata": {},
   "outputs": [
    {
     "name": "stdout",
     "output_type": "stream",
     "text": [
      "Time for Numpy Array :  -1606210732574.9531\n"
     ]
    }
   ],
   "source": [
    "start = time.time()\n",
    "result = Numpy_Array1 + Numpy_Array2\n",
    "print(\"Time for Numpy Array : \" , time.time() - start * 1000)"
   ]
  },
  {
   "cell_type": "markdown",
   "metadata": {},
   "source": [
    "## Creating Numpy Arrays"
   ]
  },
  {
   "cell_type": "code",
   "execution_count": 10,
   "metadata": {},
   "outputs": [
    {
     "name": "stdout",
     "output_type": "stream",
     "text": [
      "\n",
      " A numpy array: \n",
      " [[1 3]\n",
      " [3 4]\n",
      " [5 6]]\n",
      "\n",
      " Type :  <class 'numpy.ndarray'>\n",
      "\n",
      " Dtype :  int32\n",
      "\n",
      " NDim :  2\n",
      "\n",
      " ItemSize :  4\n",
      "\n",
      " Shape :  (3, 2)\n",
      "\n",
      " NBytes :  24\n"
     ]
    }
   ],
   "source": [
    "numpy_array = np.array([[1,3], [3,4], [5,6]])\n",
    "print(\"\\n A numpy array: \\n\" , numpy_array)\n",
    "print(\"\\n Type : \", type(numpy_array))\n",
    "print(\"\\n Dtype : \" , numpy_array.dtype)\n",
    "print(\"\\n NDim : \" , numpy_array.ndim) # Dimensions of numpy array\n",
    "print(\"\\n ItemSize : \" , numpy_array.itemsize) # size of a single element in the numpy array\n",
    "'''Shape of numpy array in (rows,columns)the shape of an array is a tuple of integers giving the size of the array along each dimension.'''\n",
    "print(\"\\n Shape : \" , numpy_array.shape)\n",
    "print(\"\\n NBytes : \" , numpy_array.nbytes)"
   ]
  },
  {
   "cell_type": "code",
   "execution_count": 11,
   "metadata": {},
   "outputs": [
    {
     "name": "stdout",
     "output_type": "stream",
     "text": [
      "8\n",
      "<class 'float'>\n",
      "8.0\n"
     ]
    }
   ],
   "source": [
    "# TypeCasting\n",
    "b = 8\n",
    "print(b)\n",
    "b = float(b)\n",
    "print(type(b))\n",
    "print(b)"
   ]
  },
  {
   "cell_type": "code",
   "execution_count": 12,
   "metadata": {},
   "outputs": [
    {
     "name": "stdout",
     "output_type": "stream",
     "text": [
      " A Float Array: \n",
      " [[1. 2.]\n",
      " [3. 4.]\n",
      " [5. 6.]]\n",
      " A Complex Array: \n",
      " [[1.+0.j 2.+0.j]\n",
      " [3.+0.j 4.+0.j]\n",
      " [5.+0.j 6.+0.j]]\n"
     ]
    }
   ],
   "source": [
    "#Typecasting of numpy arrays\n",
    "arr_fl = np.array([[1,2], [3,4], [5,6]] , dtype = np.float64)\n",
    "print(\" A Float Array: \\n\" , arr_fl)\n",
    "arr_comp = np.array([[1,2], [3,4], [5,6]] , dtype = np.complex)\n",
    "print(\" A Complex Array: \\n\" , arr_comp)"
   ]
  },
  {
   "cell_type": "code",
   "execution_count": 13,
   "metadata": {},
   "outputs": [
    {
     "name": "stdout",
     "output_type": "stream",
     "text": [
      "[[1.4 8. ]\n",
      " [3.  4. ]\n",
      " [5.  6. ]]\n",
      "float64\n",
      "<class 'numpy.ndarray'>\n"
     ]
    }
   ],
   "source": [
    "#Automatic upcasting\n",
    "a = np.array([[1.4, 8],[3,4], [5,6]])\n",
    "print(a)\n",
    "print(a.dtype)\n",
    "print(type(a))"
   ]
  },
  {
   "cell_type": "code",
   "execution_count": 14,
   "metadata": {},
   "outputs": [
    {
     "name": "stdout",
     "output_type": "stream",
     "text": [
      "[[0. 0. 0. 0. 0.]\n",
      " [0. 0. 0. 0. 0.]\n",
      " [0. 0. 0. 0. 0.]\n",
      " [0. 0. 0. 0. 0.]\n",
      " [0. 0. 0. 0. 0.]]\n"
     ]
    }
   ],
   "source": [
    "# Initialize all the elements of the numpy array with 0\n",
    "zero_array = np.zeros((5,5))\n",
    "print(zero_array)"
   ]
  },
  {
   "cell_type": "code",
   "execution_count": 15,
   "metadata": {},
   "outputs": [
    {
     "name": "stdout",
     "output_type": "stream",
     "text": [
      "[[1. 1. 1.]\n",
      " [1. 1. 1.]\n",
      " [1. 1. 1.]\n",
      " [1. 1. 1.]]\n"
     ]
    }
   ],
   "source": [
    "# Initialize all the elements of the numpy array with 1\n",
    "ones_array = np.ones((4,3))\n",
    "print(ones_array)"
   ]
  },
  {
   "cell_type": "code",
   "execution_count": 16,
   "metadata": {},
   "outputs": [
    {
     "name": "stdout",
     "output_type": "stream",
     "text": [
      "[[2.5 2.5 2.5]\n",
      " [2.5 2.5 2.5]\n",
      " [2.5 2.5 2.5]\n",
      " [2.5 2.5 2.5]]\n"
     ]
    }
   ],
   "source": [
    "#Array filled with\n",
    "full_array = np.full((4,3), 2.5)\n",
    "print(full_array)"
   ]
  },
  {
   "cell_type": "code",
   "execution_count": 17,
   "metadata": {},
   "outputs": [
    {
     "name": "stdout",
     "output_type": "stream",
     "text": [
      "A list with range 5 :  range(0, 5)\n",
      "An array with range 5 :  [0 1 2 3 4]\n"
     ]
    }
   ],
   "source": [
    "l = range(5)\n",
    "print(\"A list with range 5 : \" , l)\n",
    "A = np.arange(5)\n",
    "print(\"An array with range 5 : \" , A)"
   ]
  },
  {
   "cell_type": "code",
   "execution_count": 18,
   "metadata": {},
   "outputs": [
    {
     "name": "stdout",
     "output_type": "stream",
     "text": [
      "[ 0  2  4  6  8 10 12 14 16 18]\n"
     ]
    }
   ],
   "source": [
    "#Array with arange() function\n",
    "arange_array = np.arange(0, 20, 2)\n",
    "print(arange_array)"
   ]
  },
  {
   "cell_type": "code",
   "execution_count": 19,
   "metadata": {},
   "outputs": [
    {
     "name": "stdout",
     "output_type": "stream",
     "text": [
      "[1.         1.22222222 1.44444444 1.66666667 1.88888889 2.11111111\n",
      " 2.33333333 2.55555556 2.77777778 3.        ]\n"
     ]
    }
   ],
   "source": [
    "#An array with 10 values evenly distributed between 1 amd 3\n",
    "lin_arr = np.linspace(1,3,10)\n",
    "print(lin_arr)"
   ]
  },
  {
   "cell_type": "code",
   "execution_count": 20,
   "metadata": {},
   "outputs": [
    {
     "name": "stdout",
     "output_type": "stream",
     "text": [
      "[[0.93061308 0.35579854 0.04617769]\n",
      " [0.43003873 0.33527033 0.32485135]\n",
      " [0.87515311 0.63762844 0.61334212]]\n"
     ]
    }
   ],
   "source": [
    "# A 3x3 array of random values uniformly distributed between 0 and 1\n",
    "ran_arr = np.random.random((3, 3))\n",
    "print(ran_arr)"
   ]
  },
  {
   "cell_type": "code",
   "execution_count": 21,
   "metadata": {},
   "outputs": [
    {
     "data": {
      "text/plain": [
       "array([[8, 8, 9, 0],\n",
       "       [2, 6, 8, 8],\n",
       "       [2, 4, 7, 0]])"
      ]
     },
     "execution_count": 21,
     "metadata": {},
     "output_type": "execute_result"
    }
   ],
   "source": [
    "# A 3x4 array of random integers in the interval [0, 10)\n",
    "np.random.randint(0, 10, (3, 4))"
   ]
  },
  {
   "cell_type": "code",
   "execution_count": 22,
   "metadata": {},
   "outputs": [
    {
     "data": {
      "text/plain": [
       "array([[1., 0., 0.],\n",
       "       [0., 1., 0.],\n",
       "       [0., 0., 1.]])"
      ]
     },
     "execution_count": 22,
     "metadata": {},
     "output_type": "execute_result"
    }
   ],
   "source": [
    "# A 3x3 identity matrix\n",
    "np.eye(3)"
   ]
  },
  {
   "cell_type": "code",
   "execution_count": 23,
   "metadata": {},
   "outputs": [
    {
     "data": {
      "text/plain": [
       "array([4.00537401e-307, 2.78146116e-307, 1.61324900e-307, 3.56043053e-307,\n",
       "       1.60219306e-306])"
      ]
     },
     "execution_count": 23,
     "metadata": {},
     "output_type": "execute_result"
    }
   ],
   "source": [
    "#An uninitialized array of 5 integers with some garbage value\n",
    "np.empty(5)"
   ]
  },
  {
   "cell_type": "code",
   "execution_count": 24,
   "metadata": {},
   "outputs": [
    {
     "name": "stdout",
     "output_type": "stream",
     "text": [
      "One-dimensional array: \n",
      " [6 7 3 2 7 2]\n",
      "Shape: (6,)  Size: 6  NDim: 1  itemsize: 4\n",
      "Two-dimensional array: \n",
      " [[2 5 9 5]\n",
      " [6 4 9 9]\n",
      " [7 6 0 3]]\n",
      "Shape: (3, 4)  Size: 12  NDim: 2  itemsize: 4\n",
      "Three-dimensional array: \n",
      " [[[4 6 3 0 6]\n",
      "  [6 8 5 5 9]\n",
      "  [6 7 8 9 8]\n",
      "  [4 2 3 0 5]]\n",
      "\n",
      " [[1 9 5 9 6]\n",
      "  [4 0 7 5 5]\n",
      "  [9 8 1 3 3]\n",
      "  [8 8 6 9 9]]\n",
      "\n",
      " [[8 1 9 5 0]\n",
      "  [2 9 2 1 4]\n",
      "  [0 0 0 6 7]\n",
      "  [9 3 4 1 0]]]\n",
      "Shape: (3, 4, 5)  Size: 60  NDim: 1  itemsize: 4\n"
     ]
    }
   ],
   "source": [
    "_1D = np.random.randint(10, size=6) \n",
    "_2D = np.random.randint(10, size=(3, 4)) \n",
    "_3D = np.random.randint(10, size=(3, 4, 5))\n",
    "print(\"One-dimensional array: \\n\" , _1D)\n",
    "print(\"Shape:\",_1D.shape, \" Size:\",_1D.size, \" NDim:\",_1D.ndim, \" itemsize:\",_1D.itemsize)\n",
    "print(\"Two-dimensional array: \\n\" , _2D)\n",
    "print(\"Shape:\",_2D.shape, \" Size:\",_2D.size, \" NDim:\",_2D.ndim, \" itemsize:\",_2D.itemsize)\n",
    "print(\"Three-dimensional array: \\n\" , _3D)\n",
    "print(\"Shape:\",_3D.shape, \" Size:\",_3D.size, \" NDim:\",_1D.ndim, \" itemsize:\",_3D.itemsize)"
   ]
  },
  {
   "cell_type": "markdown",
   "metadata": {},
   "source": [
    "### Numpy with strings"
   ]
  },
  {
   "cell_type": "code",
   "execution_count": 25,
   "metadata": {},
   "outputs": [
    {
     "name": "stdout",
     "output_type": "stream",
     "text": [
      "['abcd']\n",
      "\n",
      " Original Array 1 : \n",
      " [['abc' 'xyz']\n",
      " ['hi' 'hello']]\n",
      "Shape: (2, 2)  Size: 4  NDim: 2  itemsize: 20\n",
      "\n",
      " Original Array 2 : \n",
      " [['123']\n",
      " ['456']]\n",
      "Shape: (2, 1)  Size: 2  NDim: 2  itemsize: 12\n",
      "\n",
      " Concatenated Array : \n",
      " [['abc123' 'xyz123']\n",
      " ['hi456' 'hello456']]\n",
      " Shape: (2, 2)  Size: 4  NDim: 2  itemsize: 32\n"
     ]
    }
   ],
   "source": [
    "# Concatenation row-wise\n",
    "print(np.char.add(['ab'],['cd']))\n",
    "\n",
    "arr_1 = np.array((['abc', 'xyz'], ['hi','hello']))\n",
    "print(\"\\n Original Array 1 : \\n\" , arr_1)\n",
    "print(\"Shape:\",arr_1.shape, \" Size:\",arr_1.size, \" NDim:\",arr_1.ndim, \" itemsize:\",arr_1.itemsize)\n",
    "\n",
    "arr_2 = np.array([['123'] , ['456']])\n",
    "print(\"\\n Original Array 2 : \\n\" , arr_2)\n",
    "print(\"Shape:\",arr_2.shape, \" Size:\",arr_2.size, \" NDim:\",arr_2.ndim, \" itemsize:\",arr_2.itemsize)\n",
    "\n",
    "concat_arr = np.char.add(arr_1 , arr_2)\n",
    "print(\"\\n Concatenated Array : \\n\" , concat_arr)\n",
    "print(\" Shape:\",concat_arr.shape, \" Size:\",concat_arr.size, \" NDim:\",concat_arr.ndim, \" itemsize:\",concat_arr.itemsize)"
   ]
  },
  {
   "cell_type": "code",
   "execution_count": 26,
   "metadata": {},
   "outputs": [
    {
     "name": "stdout",
     "output_type": "stream",
     "text": [
      "Hello Hello Hello Hello \n",
      "\n",
      "Original Array : \n",
      " [['abc' 'xyz']\n",
      " ['hi' 'hello']]\n",
      "Shape: (2, 2)  Size: 4  NDim: 2  itemsize: 20\n",
      "\n",
      "Replicated Array : \n",
      " [['abcabcabc' 'xyzxyzxyz']\n",
      " ['hihihi' 'hellohellohello']]\n",
      "Shape: (2, 2)  Size: 4  NDim: 2  itemsize: 60\n"
     ]
    }
   ],
   "source": [
    "#Replication of array elements\n",
    "print(np.char.multiply('Hello ' , 4))\n",
    "\n",
    "arr_1 = np.array((['abc', 'xyz'], ['hi','hello']))\n",
    "print(\"\\nOriginal Array : \\n\" , arr_1)\n",
    "print(\"Shape:\",arr_1.shape, \" Size:\",arr_1.size, \" NDim:\",arr_1.ndim, \" itemsize:\",arr_1.itemsize)\n",
    "\n",
    "repl_arr = np.char.multiply(arr_1 , 3)\n",
    "print(\"\\nReplicated Array : \\n\" , repl_arr)\n",
    "print(\"Shape:\",repl_arr.shape, \" Size:\",repl_arr.size, \" NDim:\",repl_arr.ndim, \" itemsize:\",repl_arr.itemsize)\n"
   ]
  },
  {
   "cell_type": "code",
   "execution_count": 27,
   "metadata": {},
   "outputs": [
    {
     "name": "stdout",
     "output_type": "stream",
     "text": [
      "['            hello             ']\n",
      "\n",
      "Original Array : \n",
      " [['HBO']\n",
      " ['Netflix']\n",
      " ['Amazon Prime']]\n",
      "Shape: (3, 1)  Size: 3  NDim: 2  itemsize: 48\n",
      "\n",
      "After .center Array : \n",
      " [['~~~~~~~~HBO~~~~~~~~~']\n",
      " ['~~~~~~Netflix~~~~~~~']\n",
      " ['~~~~Amazon Prime~~~~']]\n",
      "Shape: (3, 1)  Size: 3  NDim: 2  itemsize: 80\n"
     ]
    }
   ],
   "source": [
    "print(np.char.center(['hello'] , 30))\n",
    "\n",
    "char = np.array([['HBO'], ['Netflix'], ['Amazon Prime']])\n",
    "print(\"\\nOriginal Array : \\n\" , char)\n",
    "print(\"Shape:\",char.shape, \" Size:\",char.size, \" NDim:\",char.ndim, \" itemsize:\",char.itemsize)\n",
    "\n",
    "char_center = np.char.center(char , 20 , fillchar = '~')\n",
    "print(\"\\nAfter .center Array : \\n\" , char_center)\n",
    "print(\"Shape:\",char_center.shape, \" Size:\",char_center.size, \" NDim:\",char_center.ndim, \" itemsize:\",char_center.itemsize)"
   ]
  },
  {
   "cell_type": "code",
   "execution_count": 28,
   "metadata": {},
   "outputs": [
    {
     "name": "stdout",
     "output_type": "stream",
     "text": [
      "I am going to market.\n",
      "\n",
      "Original Array : \n",
      " [['men will be men' 'Imperial blue']\n",
      " ['think different' 'apple']\n",
      " ['designed for drivng pleasure' 'BMW']]\n",
      "Shape: (3, 2)  Size: 6  NDim: 2  itemsize: 112\n",
      "\n",
      "After .capitalize Array : \n",
      " [['Men will be men' 'Imperial blue']\n",
      " ['Think different' 'Apple']\n",
      " ['Designed for drivng pleasure' 'Bmw']]\n",
      "Shape: (3, 2)  Size: 6  NDim: 2  itemsize: 112\n"
     ]
    }
   ],
   "source": [
    "print(np.char.capitalize('i am going to market.'))\n",
    "\n",
    "word = np.array([['men will be men', 'Imperial blue'], ['think different' , 'apple'], ['designed for drivng pleasure', 'BMW']])\n",
    "print(\"\\nOriginal Array : \\n\" , word)\n",
    "print(\"Shape:\",word.shape, \" Size:\",word.size, \" NDim:\",word.ndim, \" itemsize:\",word.itemsize)\n",
    "\n",
    "word_cap = np.char.capitalize(word)\n",
    "print(\"\\nAfter .capitalize Array : \\n\" , word_cap)\n",
    "print(\"Shape:\",word_cap.shape, \" Size:\",word_cap.size, \" NDim:\",word_cap.ndim, \" itemsize:\",word_cap.itemsize)\n"
   ]
  },
  {
   "cell_type": "code",
   "execution_count": 29,
   "metadata": {},
   "outputs": [
    {
     "name": "stdout",
     "output_type": "stream",
     "text": [
      "Python Classes\n",
      "\n",
      "Original Array : \n",
      " [['men will be men' 'Imperial blue']\n",
      " ['think different' 'apple']\n",
      " ['designed for drivng pleasure' 'BMW']]\n",
      "Shape: (3, 2)  Size: 6  NDim: 2  itemsize: 112\n",
      "\n",
      "After .capitalize Array : \n",
      " [['Men will be men' 'Imperial blue']\n",
      " ['Think different' 'Apple']\n",
      " ['Designed for drivng pleasure' 'Bmw']]\n",
      "Shape: (3, 2)  Size: 6  NDim: 2  itemsize: 112\n"
     ]
    }
   ],
   "source": [
    "print(np.char.title('python classes'))\n",
    "\n",
    "word = np.array([['men will be men', 'Imperial blue'], ['think different' , 'apple'], ['designed for drivng pleasure', 'BMW']])\n",
    "print(\"\\nOriginal Array : \\n\" , word)\n",
    "print(\"Shape:\",word.shape, \" Size:\",word.size, \" NDim:\",word.ndim, \" itemsize:\",word.itemsize)\n",
    "\n",
    "word_ti = np.char.capitalize(word)\n",
    "print(\"\\nAfter .capitalize Array : \\n\" , word_ti)\n",
    "print(\"Shape:\",word_ti.shape, \" Size:\",word_ti.size, \" NDim:\",word_ti.ndim, \" itemsize:\",word_ti.itemsize)"
   ]
  },
  {
   "cell_type": "code",
   "execution_count": 30,
   "metadata": {},
   "outputs": [
    {
     "name": "stdout",
     "output_type": "stream",
     "text": [
      "['hello' 'world']\n",
      "['hi']\n",
      "['HELLO' 'WORLD']\n",
      "['HELLO WORLD']\n"
     ]
    }
   ],
   "source": [
    "print(np.char.lower(['HELLO', 'WORLD']))\n",
    "print(np.char.lower(['HI']))\n",
    "\n",
    "print(np.char.upper(['hello', 'world']))\n",
    "print(np.char.upper(['hello world']))"
   ]
  },
  {
   "cell_type": "code",
   "execution_count": 31,
   "metadata": {},
   "outputs": [
    {
     "name": "stdout",
     "output_type": "stream",
     "text": [
      "[list(['Hey', 'there', 'how', 'are', 'you', '?'])]\n",
      "\n",
      "Original Array : \n",
      " [['men will be men' 'Imperial blue']\n",
      " ['think different' 'apple']\n",
      " ['designed for drivng pleasure' 'BMW']]\n",
      "Shape: (3, 2)  Size: 6  NDim: 2  itemsize: 112\n",
      "\n",
      "After .split Array : \n",
      " [[list(['men', 'will', 'be', 'men']) list(['Imperial', 'blue'])]\n",
      " [list(['think', 'different']) list(['apple'])]\n",
      " [list(['designed', 'for', 'drivng', 'pleasure']) list(['BMW'])]]\n",
      "Shape: (3, 2)  Size: 6  NDim: 2  itemsize: 8\n"
     ]
    }
   ],
   "source": [
    "print(np.char.split(['Hey there how are you ?']))\n",
    "\n",
    "word = np.array([['men will be men', 'Imperial blue'], ['think different' , 'apple'], ['designed for drivng pleasure', 'BMW']])\n",
    "print(\"\\nOriginal Array : \\n\" , word)\n",
    "print(\"Shape:\",word.shape, \" Size:\",word.size, \" NDim:\",word.ndim, \" itemsize:\",word.itemsize)\n",
    "\n",
    "word_split = np.char.split(word)\n",
    "print(\"\\nAfter .split Array : \\n\" , word_split)\n",
    "print(\"Shape:\",word_split.shape, \" Size:\",word_split.size, \" NDim:\",word_split.ndim, \" itemsize:\",word_split.itemsize)"
   ]
  },
  {
   "cell_type": "code",
   "execution_count": 32,
   "metadata": {},
   "outputs": [
    {
     "name": "stdout",
     "output_type": "stream",
     "text": [
      "['Hello', 'How you doing?']\n"
     ]
    }
   ],
   "source": [
    "print(np.char.splitlines('Hello\\nHow you doing?'))"
   ]
  },
  {
   "cell_type": "code",
   "execution_count": 33,
   "metadata": {},
   "outputs": [
    {
     "name": "stdout",
     "output_type": "stream",
     "text": [
      "['ell' 'hen' 'Ho']\n",
      "\n",
      "Original Array : \n",
      " [['red' 'rome']\n",
      " ['rain' 'drain']\n",
      " ['drape' 'bear']]\n",
      "Shape: (3, 2)  Size: 6  NDim: 2  itemsize: 20\n",
      "\n",
      "After .strip Array : \n",
      " [['ed' 'ome']\n",
      " ['ain' 'drain']\n",
      " ['drape' 'bea']]\n",
      "Shape: (3, 2)  Size: 6  NDim: 2  itemsize: 20\n"
     ]
    }
   ],
   "source": [
    "print(np.char.strip(['Well', 'When', 'HoW'], 'W'))\n",
    "\n",
    "string = np.array([['red', 'rome'], ['rain' , 'drain'], ['drape', 'bear']])\n",
    "print(\"\\nOriginal Array : \\n\" , string)\n",
    "print(\"Shape:\",string.shape, \" Size:\",string.size, \" NDim:\",string.ndim, \" itemsize:\",string.itemsize)\n",
    "\n",
    "word_strip = np.char.strip(string, 'r')\n",
    "print(\"\\nAfter .strip Array : \\n\" , word_strip)\n",
    "print(\"Shape:\",word_strip.shape, \" Size:\",word_strip.size, \" NDim:\",word_strip.ndim, \" itemsize:\",word_strip.itemsize)"
   ]
  },
  {
   "cell_type": "code",
   "execution_count": 34,
   "metadata": {},
   "outputs": [
    {
     "name": "stdout",
     "output_type": "stream",
     "text": [
      "['d:m:y' 'y-m-d']\n"
     ]
    }
   ],
   "source": [
    "print(np.char.join([':' , '-'] , ['dmy', 'ymd']))"
   ]
  },
  {
   "cell_type": "code",
   "execution_count": 35,
   "metadata": {},
   "outputs": [
    {
     "name": "stdout",
     "output_type": "stream",
     "text": [
      "He was coding.\n",
      "\n",
      "Original Array : \n",
      " [['He wants to be a traveller.' 'He travels.']\n",
      " ['He paints.' 'He wants to be a painter.']]\n",
      "Shape: (2, 2)  Size: 4  NDim: 2  itemsize: 108\n",
      "\n",
      "After .replace Array : \n",
      " [['He is now a traveller.' 'He travels.']\n",
      " ['He paints.' 'He is now a painter.']]\n",
      "Shape: (2, 2)  Size: 4  NDim: 2  itemsize: 88\n"
     ]
    }
   ],
   "source": [
    "print(np.char.replace('He is coding.' , 'is' , 'was'))\n",
    "\n",
    "sentence = np.array([['He wants to be a traveller.', 'He travels.'], ['He paints.' , 'He wants to be a painter.']])\n",
    "print(\"\\nOriginal Array : \\n\" , sentence)\n",
    "print(\"Shape:\",sentence.shape, \" Size:\",sentence.size, \" NDim:\",sentence.ndim, \" itemsize:\",sentence.itemsize)\n",
    "\n",
    "replace_ = np.char.replace(sentence, 'wants to be', 'is now')\n",
    "print(\"\\nAfter .replace Array : \\n\" , replace_)\n",
    "print(\"Shape:\",replace_.shape, \" Size:\",replace_.size, \" NDim:\",replace_.ndim, \" itemsize:\",replace_.itemsize)"
   ]
  },
  {
   "cell_type": "markdown",
   "metadata": {},
   "source": [
    "# Array Manipulation"
   ]
  },
  {
   "cell_type": "code",
   "execution_count": 36,
   "metadata": {},
   "outputs": [
    {
     "name": "stdout",
     "output_type": "stream",
     "text": [
      "Array:\n",
      " [0 1 2 3 4 5 6 7 8]\n",
      "Shape: (9,)  Size: 9  ndim: 1  itemsize: 4  dtype: int32\n"
     ]
    }
   ],
   "source": [
    "arr1 = np.arange(9)\n",
    "print('Array:\\n' , arr1)\n",
    "print(\"Shape:\",arr1.shape, \" Size:\",arr1.size, \" ndim:\",arr1.ndim, \" itemsize:\",arr1.itemsize, \" dtype:\",arr1.dtype)"
   ]
  },
  {
   "cell_type": "code",
   "execution_count": 37,
   "metadata": {},
   "outputs": [
    {
     "name": "stdout",
     "output_type": "stream",
     "text": [
      "Array:\n",
      " [[ 9 10 11]\n",
      " [ 3  4  5]\n",
      " [ 5  6  7]]\n",
      "Shape: (3, 3)  Size: 9  ndim: 2  itemsize: 4  dtype: int32\n"
     ]
    }
   ],
   "source": [
    "arr2 = np.array([range(i, i+3) for i in [9,3,5]])\n",
    "print('Array:\\n' , arr2)\n",
    "print(\"Shape:\",arr2.shape, \" Size:\",arr2.size, \" ndim:\",arr2.ndim, \" itemsize:\",arr2.itemsize, \" dtype:\",arr2.dtype)"
   ]
  },
  {
   "cell_type": "markdown",
   "metadata": {},
   "source": [
    "### Array Indexing : Accessing Single Elements\n"
   ]
  },
  {
   "cell_type": "code",
   "execution_count": 38,
   "metadata": {},
   "outputs": [
    {
     "name": "stdout",
     "output_type": "stream",
     "text": [
      "arr1[5]:  5\n",
      "arr1[-5] : 4\n",
      "arr2[2,1] : 6\n",
      "arr2[2,-1] : 7\n"
     ]
    }
   ],
   "source": [
    "# In one-dimensional array\n",
    "print('arr1[5]: ',arr1[5])\n",
    "print('arr1[-5] :',arr1[-5])\n",
    "#In Multidimensional Array\n",
    "print('arr2[2,1] :',arr2[2,1])\n",
    "print('arr2[2,-1] :',arr2[2,-1])"
   ]
  },
  {
   "cell_type": "code",
   "execution_count": 39,
   "metadata": {},
   "outputs": [],
   "source": [
    "slic = slice(2,8,2)\n",
    "#arr_slice = arr1[slic]\n",
    "#print(arr_slice)"
   ]
  },
  {
   "cell_type": "code",
   "execution_count": 40,
   "metadata": {},
   "outputs": [
    {
     "name": "stdout",
     "output_type": "stream",
     "text": [
      "After modifiction: \n",
      " [[20 10 11]\n",
      " [ 3  4  5]\n",
      " [ 5  6  7]]\n",
      "After updation: \n",
      " [0 1 2 3 8 5 6 7 8]\n"
     ]
    }
   ],
   "source": [
    "# Modifying values\n",
    "arr2[0,0] = 20\n",
    "print(\"After modifiction: \\n\",arr2)\n",
    "arr1[4] = 8.45\n",
    "print(\"After updation: \\n\",arr1)"
   ]
  },
  {
   "cell_type": "markdown",
   "metadata": {},
   "source": [
    "### Array Slicing : Accessing Subarrays"
   ]
  },
  {
   "cell_type": "code",
   "execution_count": 41,
   "metadata": {},
   "outputs": [
    {
     "name": "stdout",
     "output_type": "stream",
     "text": [
      "arr1[ : 5] : [0 1 2 3 8]\n",
      "arr1[4 : 7] : [8 5 6]\n",
      "arr1[1 : : 2] : [1 3 5 7]\n",
      "arr1[ : : -1] : [8 7 6 5 8 3 2 1 0]\n",
      "arr1[5 : : -2] : [8 6 8 2 0]\n"
     ]
    }
   ],
   "source": [
    "# One-dimensional array\n",
    "print('arr1[ : 5] :',arr1[ : 5])\n",
    "print('arr1[4 : 7] :',arr1[4 : 7])\n",
    "print('arr1[1 : : 2] :',arr1[1::2])\n",
    "print('arr1[ : : -1] :',arr1[ : :-1])\n",
    "print('arr1[5 : : -2] :',arr1[ : :-2])"
   ]
  },
  {
   "cell_type": "code",
   "execution_count": 42,
   "metadata": {},
   "outputs": [
    {
     "name": "stdout",
     "output_type": "stream",
     "text": [
      "arr2[[ : 2, : 3] :\n",
      " [[20 10 11]\n",
      " [ 3  4  5]]\n",
      "arr2[ : 3, : : 2] :\n",
      " [[20 11]\n",
      " [ 3  5]\n",
      " [ 5  7]]\n",
      "arr2[ : :-1, : : -1] :\n",
      " [[ 7  6  5]\n",
      " [ 5  4  3]\n",
      " [11 10 20]]\n"
     ]
    }
   ],
   "source": [
    "#Two-Dimensional Array\n",
    "print('arr2[[ : 2, : 3] :\\n',arr2[:2, :3]) #2 rows, 3cols\n",
    "print('arr2[ : 3, : : 2] :\\n',arr2[:3, ::2]) #allrows, evry ither col\n",
    "print('arr2[ : :-1, : : -1] :\\n',arr2[::-1, ::-1]) #Reversing"
   ]
  },
  {
   "cell_type": "code",
   "execution_count": 43,
   "metadata": {},
   "outputs": [
    {
     "name": "stdout",
     "output_type": "stream",
     "text": [
      "arr2[:, 0] : [20  3  5]\n",
      "arr2[0, :] : [20 10 11]\n",
      "arr2[0] : [20 10 11]\n"
     ]
    }
   ],
   "source": [
    "#Combining Indexing and Slicing\n",
    "print('arr2[:, 0] :',arr2[:, 0]) #first column\n",
    "print('arr2[0, :] :',arr2[0, :]) #first row\n",
    "print('arr2[0] :',arr2[0])"
   ]
  },
  {
   "cell_type": "code",
   "execution_count": 44,
   "metadata": {},
   "outputs": [
    {
     "name": "stdout",
     "output_type": "stream",
     "text": [
      "Original array : \n",
      " [[20 10 11]\n",
      " [ 3  4  5]\n",
      " [ 5  6  7]]\n",
      "Sub Array : arr2[:2, :2] \n",
      " [[20 10]\n",
      " [ 3  4]]\n",
      "Modified Sub Array : \n",
      " [[99 10]\n",
      " [ 3  4]]\n"
     ]
    }
   ],
   "source": [
    "print(\"Original array : \\n\" , arr2)\n",
    "sub_arr2 = arr2[:2, :2]\n",
    "print(\"Sub Array : arr2[:2, :2] \\n\" , sub_arr2)\n",
    "sub_arr2[0, 0] = 99\n",
    "print(\"Modified Sub Array : \\n\" , sub_arr2)"
   ]
  },
  {
   "cell_type": "code",
   "execution_count": 45,
   "metadata": {},
   "outputs": [
    {
     "name": "stdout",
     "output_type": "stream",
     "text": [
      "sub_arr2_copy: \n",
      " [[99 10]\n",
      " [ 3  4]]\n",
      "After modification sub_arr2_copy: \n",
      " [[42 10]\n",
      " [ 3  4]]\n",
      "After modification sub_arr2: \n",
      " [[99 10]\n",
      " [ 3  4]]\n"
     ]
    }
   ],
   "source": [
    "sub_arr2_copy = sub_arr2[:2, :2].copy()\n",
    "print('sub_arr2_copy: \\n',sub_arr2_copy)\n",
    "sub_arr2_copy[0, 0] = 42\n",
    "print('After modification sub_arr2_copy: \\n', sub_arr2_copy)\n",
    "print('After modification sub_arr2: \\n', sub_arr2)"
   ]
  },
  {
   "cell_type": "markdown",
   "metadata": {},
   "source": [
    "# Reshaping Array\n",
    "- the size of the initial array must match the size of the reshaped array"
   ]
  },
  {
   "cell_type": "code",
   "execution_count": 46,
   "metadata": {},
   "outputs": [
    {
     "name": "stdout",
     "output_type": "stream",
     "text": [
      "Array originally:  [1 2 3 4 5 6 7 8 9]\n",
      "Reshaped Array:\n",
      " [[1 2 3]\n",
      " [4 5 6]\n",
      " [7 8 9]]\n",
      "Shape: (3, 3)  Size: 9  ndim: 2  itemsize: 4  dtype: int32\n"
     ]
    }
   ],
   "source": [
    "array = np.arange(1,10)\n",
    "print(\"Array originally: \" , array)\n",
    "ar_res = array.reshape(3,3)\n",
    "print('Reshaped Array:\\n' , ar_res)\n",
    "print(\"Shape:\",ar_res.shape, \" Size:\",ar_res.size, \" ndim:\",ar_res.ndim, \" itemsize:\",ar_res.itemsize, \" dtype:\",ar_res.dtype)"
   ]
  },
  {
   "cell_type": "markdown",
   "metadata": {},
   "source": [
    "### Reshaping 1D array into a 2D array"
   ]
  },
  {
   "cell_type": "code",
   "execution_count": 47,
   "metadata": {},
   "outputs": [
    {
     "name": "stdout",
     "output_type": "stream",
     "text": [
      "Row vector using reshape:  [[1 2 3 4 5 6 7 8 9]]\n",
      "Row vector using newaxis:  [[1 2 3 4 5 6 7 8 9]]\n",
      "Column vector using reshape: \n",
      " [[1]\n",
      " [2]\n",
      " [3]\n",
      " [4]\n",
      " [5]\n",
      " [6]\n",
      " [7]\n",
      " [8]\n",
      " [9]]\n",
      "Column vector using newaxis: \n",
      " [[1]\n",
      " [2]\n",
      " [3]\n",
      " [4]\n",
      " [5]\n",
      " [6]\n",
      " [7]\n",
      " [8]\n",
      " [9]]\n"
     ]
    }
   ],
   "source": [
    "print(\"Row vector using reshape: \", array.reshape((1,9)))\n",
    "print(\"Row vector using newaxis: \", array[np.newaxis, :])\n",
    "print(\"Column vector using reshape: \\n\", array.reshape(9,1))\n",
    "print(\"Column vector using newaxis: \\n\", array[: ,np.newaxis])"
   ]
  },
  {
   "cell_type": "code",
   "execution_count": 48,
   "metadata": {},
   "outputs": [
    {
     "name": "stdout",
     "output_type": "stream",
     "text": [
      "Flattened Array:\n",
      " [1 2 3 4 5 6 7 8 9]\n",
      "Shape: (9,)  Size: 9  ndim: 1  itemsize: 4  dtype: int32\n"
     ]
    }
   ],
   "source": [
    "flat_arr = ar_res.flatten()\n",
    "print('Flattened Array:\\n' , flat_arr)\n",
    "print(\"Shape:\",flat_arr.shape, \" Size:\",flat_arr.size, \" ndim:\",flat_arr.ndim, \" itemsize:\",flat_arr.itemsize, \" dtype:\",flat_arr.dtype)"
   ]
  },
  {
   "cell_type": "code",
   "execution_count": 49,
   "metadata": {},
   "outputs": [
    {
     "name": "stdout",
     "output_type": "stream",
     "text": [
      "Column wise Flattened Array:\n",
      " [1 4 7 2 5 8 3 6 9]\n",
      "Shape: (9,)  Size: 9  ndim: 1  itemsize: 4  dtype: int32\n"
     ]
    }
   ],
   "source": [
    "col_flat_arr = ar_res.flatten(order = 'F')\n",
    "print('Column wise Flattened Array:\\n' , col_flat_arr)\n",
    "print(\"Shape:\",col_flat_arr.shape, \" Size:\",col_flat_arr.size, \" ndim:\",col_flat_arr.ndim, \" itemsize:\",col_flat_arr.itemsize, \" dtype:\",col_flat_arr.dtype)"
   ]
  },
  {
   "cell_type": "code",
   "execution_count": 50,
   "metadata": {},
   "outputs": [
    {
     "name": "stdout",
     "output_type": "stream",
     "text": [
      "Transpose of Array:\n",
      " [[1 4 7]\n",
      " [2 5 8]\n",
      " [3 6 9]]\n",
      "Shape: (9,)  Size: 9  ndim: 1  itemsize: 4  dtype: int32\n"
     ]
    }
   ],
   "source": [
    "trans_arr = np.transpose(ar_res)\n",
    "print('Transpose of Array:\\n' , trans_arr)\n",
    "print(\"Shape:\",col_flat_arr.shape, \" Size:\",col_flat_arr.size, \" ndim:\",col_flat_arr.ndim, \" itemsize:\",col_flat_arr.itemsize, \" dtype:\",col_flat_arr.dtype)"
   ]
  },
  {
   "cell_type": "code",
   "execution_count": 51,
   "metadata": {},
   "outputs": [
    {
     "name": "stdout",
     "output_type": "stream",
     "text": [
      "reshape(2,6)- \n",
      " [[12 13 14 15 16 17]\n",
      " [18 19 20 21 22 23]]\n",
      "reshape(2,3,2)- \n",
      " [[[12 13]\n",
      "  [14 15]\n",
      "  [16 17]]\n",
      "\n",
      " [[18 19]\n",
      "  [20 21]\n",
      "  [22 23]]]\n"
     ]
    }
   ],
   "source": [
    "print('reshape(2,6)- \\n', np.arange(12,24).reshape(2,6))\n",
    "# no. of arrays, no. of rows, no. of columns\n",
    "print('reshape(2,3,2)- \\n',np.arange(12,24).reshape(2,3,2))"
   ]
  },
  {
   "cell_type": "markdown",
   "metadata": {},
   "source": [
    "# Numpy Arithmetic Operations"
   ]
  },
  {
   "cell_type": "code",
   "execution_count": 52,
   "metadata": {},
   "outputs": [
    {
     "data": {
      "text/plain": [
       "array([[0, 1, 2],\n",
       "       [3, 4, 5],\n",
       "       [6, 7, 8]])"
      ]
     },
     "execution_count": 52,
     "metadata": {},
     "output_type": "execute_result"
    }
   ],
   "source": [
    "a = np.arange(9).reshape(3,3)\n",
    "a"
   ]
  },
  {
   "cell_type": "code",
   "execution_count": 53,
   "metadata": {},
   "outputs": [
    {
     "data": {
      "text/plain": [
       "array([10, 11, 12])"
      ]
     },
     "execution_count": 53,
     "metadata": {},
     "output_type": "execute_result"
    }
   ],
   "source": [
    "b = np.array([10,11,12])\n",
    "b"
   ]
  },
  {
   "cell_type": "code",
   "execution_count": 54,
   "metadata": {},
   "outputs": [
    {
     "data": {
      "text/plain": [
       "array([[ 3,  5,  7],\n",
       "       [ 9, 11, 13],\n",
       "       [ 7,  9, 11]])"
      ]
     },
     "execution_count": 54,
     "metadata": {},
     "output_type": "execute_result"
    }
   ],
   "source": [
    "c = np.array([[3, 4 ,5],[6,7,8],[1,2,3]])\n",
    "np.add(a,c)"
   ]
  },
  {
   "cell_type": "code",
   "execution_count": 55,
   "metadata": {},
   "outputs": [
    {
     "data": {
      "text/plain": [
       "array([[10, 12, 14],\n",
       "       [13, 15, 17],\n",
       "       [16, 18, 20]])"
      ]
     },
     "execution_count": 55,
     "metadata": {},
     "output_type": "execute_result"
    }
   ],
   "source": [
    "np.add(a,b)"
   ]
  },
  {
   "cell_type": "code",
   "execution_count": 56,
   "metadata": {},
   "outputs": [
    {
     "name": "stdout",
     "output_type": "stream",
     "text": [
      "[[-10 -10 -10]\n",
      " [ -7  -7  -7]\n",
      " [ -4  -4  -4]]\n",
      "[[-3 -3 -3]\n",
      " [-3 -3 -3]\n",
      " [ 5  5  5]]\n"
     ]
    }
   ],
   "source": [
    "print(np.subtract(a,b))\n",
    "print(np.subtract(a,c))"
   ]
  },
  {
   "cell_type": "code",
   "execution_count": 57,
   "metadata": {},
   "outputs": [
    {
     "name": "stdout",
     "output_type": "stream",
     "text": [
      "[[ 0 11 24]\n",
      " [30 44 60]\n",
      " [60 77 96]]\n",
      "[[ 0  4 10]\n",
      " [18 28 40]\n",
      " [ 6 14 24]]\n"
     ]
    }
   ],
   "source": [
    "print(np.multiply(a,b))\n",
    "print(np.multiply(a,c))"
   ]
  },
  {
   "cell_type": "code",
   "execution_count": 58,
   "metadata": {},
   "outputs": [
    {
     "name": "stdout",
     "output_type": "stream",
     "text": [
      "[[0.         0.09090909 0.16666667]\n",
      " [0.3        0.36363636 0.41666667]\n",
      " [0.6        0.63636364 0.66666667]]\n"
     ]
    }
   ],
   "source": [
    "print(np.divide(a,b))"
   ]
  },
  {
   "cell_type": "markdown",
   "metadata": {},
   "source": [
    "##### Iteration over array"
   ]
  },
  {
   "cell_type": "code",
   "execution_count": 59,
   "metadata": {},
   "outputs": [
    {
     "data": {
      "text/plain": [
       "array([ 0,  5, 10, 15, 20, 25, 30, 35, 40])"
      ]
     },
     "execution_count": 59,
     "metadata": {},
     "output_type": "execute_result"
    }
   ],
   "source": [
    "a = np.arange(0, 45, 5)\n",
    "a"
   ]
  },
  {
   "cell_type": "code",
   "execution_count": 60,
   "metadata": {},
   "outputs": [],
   "source": [
    "a = a.reshape(3,3)"
   ]
  },
  {
   "cell_type": "code",
   "execution_count": 61,
   "metadata": {},
   "outputs": [
    {
     "name": "stdout",
     "output_type": "stream",
     "text": [
      "0\n",
      "5\n",
      "10\n",
      "15\n",
      "20\n",
      "25\n",
      "30\n",
      "35\n",
      "40\n"
     ]
    }
   ],
   "source": [
    "for x in np.nditer(a):\n",
    "    print(x)"
   ]
  },
  {
   "cell_type": "code",
   "execution_count": 62,
   "metadata": {},
   "outputs": [
    {
     "name": "stdout",
     "output_type": "stream",
     "text": [
      "[[ 0  5 10]\n",
      " [15 20 25]\n",
      " [30 35 40]]\n",
      "0\n",
      "5\n",
      "10\n",
      "15\n",
      "20\n",
      "25\n",
      "30\n",
      "35\n",
      "40\n",
      "0\n",
      "15\n",
      "30\n",
      "5\n",
      "20\n",
      "35\n",
      "10\n",
      "25\n",
      "40\n"
     ]
    }
   ],
   "source": [
    "print(a)\n",
    "for x in np.nditer(a, order = 'C'):\n",
    "    print(x)\n",
    "    \n",
    "for x in np.nditer(a, order = 'F'):\n",
    "    print(x)"
   ]
  },
  {
   "cell_type": "markdown",
   "metadata": {},
   "source": [
    "# Joining Arrays\n",
    "- pass a tuple or list of arguments to be concatenated"
   ]
  },
  {
   "cell_type": "code",
   "execution_count": 63,
   "metadata": {},
   "outputs": [
    {
     "name": "stdout",
     "output_type": "stream",
     "text": [
      "[1 2 3 4 5 6 0 0 0]\n",
      "Array 1- \n",
      " [[1 2]\n",
      " [3 4]]\n",
      "Joining 1 & 1- \n",
      " [[1 2]\n",
      " [3 4]\n",
      " [1 2]\n",
      " [3 4]]\n",
      "Array 2 - \n",
      " [[5 6]\n",
      " [7 8]]\n",
      "Joining 1 & 2- \n",
      " [[1 2]\n",
      " [3 4]\n",
      " [5 6]\n",
      " [7 8]]\n",
      "Array 3 - \n",
      " [[0 0]\n",
      " [1 1]]\n",
      "Joining 1, 2 & 3- \n",
      " [[1 2]\n",
      " [3 4]\n",
      " [5 6]\n",
      " [7 8]\n",
      " [0 0]\n",
      " [1 1]]\n"
     ]
    }
   ],
   "source": [
    "# Joining 1D arrays\n",
    "print(np.concatenate([[1,2,3],[4,5,6],[0,0,0]]))\n",
    "# Joining 2D arrays\n",
    "a = np.array([[1,2], [3,4]])\n",
    "print(\"Array 1- \\n\", a)\n",
    "print('Joining 1 & 1- \\n' , np.concatenate((a,a)))\n",
    "b = np.array([[5,6], [7,8]])\n",
    "print(\"Array 2 - \\n\" , b)\n",
    "print('Joining 1 & 2- \\n' , np.concatenate((a,b)))\n",
    "c = np.array([[0,0],[1,1]])\n",
    "print(\"Array 3 - \\n\" , c)\n",
    "print('Joining 1, 2 & 3- \\n' , np.concatenate((a,b,c)))"
   ]
  },
  {
   "cell_type": "code",
   "execution_count": 64,
   "metadata": {},
   "outputs": [
    {
     "name": "stdout",
     "output_type": "stream",
     "text": [
      "Concatenating along column or second axis- \n",
      " [[1 2 5 6]\n",
      " [3 4 7 8]]\n"
     ]
    }
   ],
   "source": [
    "print(\"Concatenating along column or second axis- \\n\" , np.concatenate((a,b),axis = 1))"
   ]
  },
  {
   "cell_type": "code",
   "execution_count": 65,
   "metadata": {},
   "outputs": [
    {
     "name": "stdout",
     "output_type": "stream",
     "text": [
      "a1: \n",
      " [1 2 3]\n",
      "a2: \n",
      " [[0 0 0]\n",
      " [3 2 1]]\n",
      "a3: \n",
      " [[0]\n",
      " [4]]\n",
      "a4: \n",
      " [[9 8 7]\n",
      " [4 5 6]]\n",
      "Vertical Stack: \n",
      " [[1 2 3]\n",
      " [0 0 0]\n",
      " [3 2 1]]\n",
      "Horizontal Stack: \n",
      " [[0 0 0 0]\n",
      " [4 3 2 1]]\n",
      "Stack aong 3rd axis: \n",
      " [[[0 9]\n",
      "  [0 8]\n",
      "  [0 7]]\n",
      "\n",
      " [[3 4]\n",
      "  [2 5]\n",
      "  [1 6]]]\n"
     ]
    }
   ],
   "source": [
    "a1 = np.array([1,2,3])\n",
    "a2 = np.array([[0,0,0],[3,2,1]])\n",
    "a3 = np.array([[0], [4]])\n",
    "a4 = np.array([[9,8,7],[4,5,6]])\n",
    "print(\"a1: \\n\", a1)\n",
    "print(\"a2: \\n\", a2)\n",
    "print(\"a3: \\n\", a3)\n",
    "print(\"a4: \\n\", a4)\n",
    "\n",
    "# To vertically stack the arrays\n",
    "print(\"Vertical Stack: \\n\", np.vstack([a1,a2]))\n",
    "\n",
    "# To horizontally stack the arrays\n",
    "print(\"Horizontal Stack: \\n\", np.hstack([a3,a2]))\n",
    "\n",
    "# To stack along the third dimension\n",
    "print(\"Stack aong 3rd axis: \\n\", np.dstack([a2, a4]))"
   ]
  },
  {
   "cell_type": "markdown",
   "metadata": {},
   "source": [
    "# Splitting Arrays"
   ]
  },
  {
   "cell_type": "code",
   "execution_count": 66,
   "metadata": {},
   "outputs": [
    {
     "name": "stdout",
     "output_type": "stream",
     "text": [
      "a1: \n",
      " [11, 62, 73, 99, 99, 33, 22, 10]\n",
      "a4: \n",
      " [[ 1  2  3  4]\n",
      " [ 5  6  7  8]\n",
      " [ 9 10 11 12]\n",
      " [13 14 15 16]]\n",
      "a7: \n",
      " [[[ 1  2]\n",
      "  [ 3  4]]\n",
      "\n",
      " [[ 5  6]\n",
      "  [ 7  8]]\n",
      "\n",
      " [[ 9 10]\n",
      "  [11 12]]]\n",
      "Split a5 [2,5]: \n",
      " [array([11, 62]), array([73, 99, 99]), array([33, 22, 10])]\n",
      "Vertical Split: \n",
      " [array([[1, 2, 3, 4],\n",
      "       [5, 6, 7, 8]]), array([[ 9, 10, 11, 12],\n",
      "       [13, 14, 15, 16]])]\n",
      "Horizontal Split: \n",
      " [array([[ 1,  2],\n",
      "       [ 5,  6],\n",
      "       [ 9, 10],\n",
      "       [13, 14]]), array([[ 3,  4],\n",
      "       [ 7,  8],\n",
      "       [11, 12],\n",
      "       [15, 16]])]\n",
      "Split along 3rd axis: \n",
      " [array([[[ 1,  2],\n",
      "        [ 3,  4]],\n",
      "\n",
      "       [[ 5,  6],\n",
      "        [ 7,  8]],\n",
      "\n",
      "       [[ 9, 10],\n",
      "        [11, 12]]]), array([], shape=(3, 2, 0), dtype=int32), array([], shape=(3, 2, 0), dtype=int32)]\n"
     ]
    }
   ],
   "source": [
    "a5 = [11, 62, 73, 99, 99, 33, 22, 10]\n",
    "a6 = np.arange(1,17).reshape((4, 4))\n",
    "a7 = np.arange(1,13).reshape(3,2,2)\n",
    "print(\"a1: \\n\", a5)\n",
    "print(\"a4: \\n\", a6)\n",
    "print(\"a7: \\n\", a7)\n",
    "# n split points = n+1 subarrays\n",
    "print(\"Split a5 [2,5]: \\n\", np.split(a5,[2,5]))\n",
    "print(\"Vertical Split: \\n\", np.vsplit(a6, [2]))\n",
    "print(\"Horizontal Split: \\n\", np.hsplit(a6, [2]))\n",
    "print(\"Split along 3rd axis: \\n\", np.dsplit(a7, [2,2]))"
   ]
  },
  {
   "cell_type": "markdown",
   "metadata": {},
   "source": [
    "### Resizing an Array"
   ]
  },
  {
   "cell_type": "code",
   "execution_count": 67,
   "metadata": {},
   "outputs": [
    {
     "name": "stdout",
     "output_type": "stream",
     "text": [
      "[[1 2 3]\n",
      " [4 5 6]]\n",
      "(2, 3)\n",
      "[[1 2]\n",
      " [3 4]\n",
      " [5 6]]\n",
      "(3, 2)\n"
     ]
    }
   ],
   "source": [
    "a = np.array([[1,2,3] , [4,5,6]])\n",
    "print(a)\n",
    "print(a.shape)\n",
    "b = np.resize(a , (3,2))\n",
    "print(b)\n",
    "print(b.shape)"
   ]
  },
  {
   "cell_type": "code",
   "execution_count": 68,
   "metadata": {},
   "outputs": [
    {
     "name": "stdout",
     "output_type": "stream",
     "text": [
      "[[1 2 3]\n",
      " [4 5 6]\n",
      " [1 2 3]]\n",
      "(3, 3)\n"
     ]
    }
   ],
   "source": [
    "b = np.resize(a, (3,3))\n",
    "print(b)\n",
    "print(b.shape)"
   ]
  },
  {
   "cell_type": "code",
   "execution_count": 69,
   "metadata": {},
   "outputs": [],
   "source": [
    "#Histogram"
   ]
  },
  {
   "cell_type": "code",
   "execution_count": 70,
   "metadata": {},
   "outputs": [
    {
     "data": {
      "image/png": "[encoded data removed]",
      "text/plain": [
       "<Figure size 432x288 with 1 Axes>"
      ]
     },
     "metadata": {
      "needs_background": "light"
     },
     "output_type": "display_data"
    }
   ],
   "source": [
    "import  matplotlib.pyplot as plt\n",
    "a = np.array([ 20, 6, 42, 90, 96, 62, 87, 15, 7, 71, 56, 43, 21, 54, 88, 66])\n",
    "plt.hist(a, bins = [0, 20, 40, 60, 80, 100])\n",
    "plt.title('Histogram')\n",
    "plt.show()"
   ]
  },
  {
   "cell_type": "code",
   "execution_count": 71,
   "metadata": {},
   "outputs": [
    {
     "data": {
      "image/png": "[encoded data removed]",
      "text/plain": [
       "<Figure size 432x288 with 1 Axes>"
      ]
     },
     "metadata": {
      "needs_background": "light"
     },
     "output_type": "display_data"
    }
   ],
   "source": [
    "plt.hist(a, bins = [0, 10, 20, 30, 40, 50, 60, 70, 80, 90, 100])\n",
    "plt.show()"
   ]
  },
  {
   "cell_type": "code",
   "execution_count": null,
   "metadata": {},
   "outputs": [],
   "source": []
  }
 ],
 "metadata": {
  "kernelspec": {
   "display_name": "Python 3",
   "language": "python",
   "name": "python3"
  },
  "language_info": {
   "codemirror_mode": {
    "name": "ipython",
    "version": 3
   },
   "file_extension": ".py",
   "mimetype": "text/x-python",
   "name": "python",
   "nbconvert_exporter": "python",
   "pygments_lexer": "ipython3",
   "version": "3.7.6"
  }
 },
 "nbformat": 4,
 "nbformat_minor": 2
}
